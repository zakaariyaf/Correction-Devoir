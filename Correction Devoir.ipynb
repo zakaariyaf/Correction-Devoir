{
 "cells": [
  {
   "cell_type": "code",
   "execution_count": 1,
   "metadata": {},
   "outputs": [
    {
     "name": "stdout",
     "output_type": "stream",
     "text": [
      "\n",
      "Donner la distance pour vérifier (--1 mètre = 100--) : 30\n"
     ]
    }
   ],
   "source": [
    "import cv2\n",
    "import math\n",
    "\n",
    "FullBody=cv2.CascadeClassifier(\"haarcascade_fullbody.xml\")\n",
    "# 1 ) -----    Donnez le fichier vidéo ici\n",
    "video_capture = cv2.VideoCapture('walk 00_03_01-00_04_22.mp4')\n",
    "f1 = input(\"\\nDonner la distance pour vérifier (--1 mètre = 100--) : \")\n",
    "f2 = float(f1) \n",
    "while True:   \n",
    "# 1 ) -----    lire la vidéo\n",
    "    ret, frame = video_capture.read()\n",
    "    \n",
    "    if ret==True:\n",
    "# 2) -----    transferer l'image vers le gray pour améliorer la détection,\n",
    "        Gray = cv2.cvtColor(frame, cv2.COLOR_BGR2GRAY)\n",
    "# 2) -----    Détection des objets ,\n",
    "        Body = FullBody.detectMultiScale(Gray,1.7,1)\n",
    "        for (x, y, w, h) in Body:\n",
    "            xx=0\n",
    "            mustbered=False\n",
    "# 2) ----- Lorsque nous trouvons une personne, nous commençons le processus de calcul de sa distance avec les autres\n",
    "            for (x1, y1, w1, h1) in Body:\n",
    "                if x!=x1 and y1!=y:\n",
    "# 3) ----- Calculs des distances entre chaque couple de personnes\n",
    "                    xx=math.sqrt(((x+w//2)-(x1+w1//2))**2+((y+h//2)-(y1+h//2))**2)\n",
    "#     ------------  afficher une ligne entre tout les personne.\n",
    "                    #cv2.line(frame,(x+w//2,y+h//2), (x1+w1//2,y1+h1//2), (255, 0, 0), 2)\n",
    "# 4) ----- vérifier la distance,\n",
    "                    if xx < f2:\n",
    "                        mustbered=True\n",
    "                if mustbered:\n",
    "                    cv2.rectangle(frame, (x, y), (x+w, y+h), (0, 0, 255), 2)\n",
    "                else :\n",
    "                    cv2.rectangle(frame, (x, y), (x+w, y+h), (0, 255, 0), 2)\n",
    "#5) ----- Affichage ,\n",
    "        cv2.imshow('Video', frame)\n",
    "        key=cv2.waitKey(1)\n",
    "        if key==27:\n",
    "            break\n",
    "    else:\n",
    "        break\n",
    "   \n",
    "video_capture.release()\n",
    "cv2.destroyAllWindows()"
   ]
  }
 ],
 "metadata": {
  "kernelspec": {
   "display_name": "Python 3",
   "language": "python",
   "name": "python3"
  },
  "language_info": {
   "codemirror_mode": {
    "name": "ipython",
    "version": 3
   },
   "file_extension": ".py",
   "mimetype": "text/x-python",
   "name": "python",
   "nbconvert_exporter": "python",
   "pygments_lexer": "ipython3",
   "version": "3.8.5"
  }
 },
 "nbformat": 4,
 "nbformat_minor": 4
}
